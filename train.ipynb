{
 "cells": [
  {
   "cell_type": "code",
   "execution_count": 1,
   "metadata": {},
   "outputs": [],
   "source": [
    "import os\n",
    "import numpy as np\n",
    "import cv2\n",
    "import matplotlib.pyplot as plt\n",
    "import pickle\n",
    "\n",
    "import tensorflow as tf\n",
    "from tensorflow import keras\n",
    "\n"
   ]
  },
  {
   "cell_type": "code",
   "execution_count": 72,
   "metadata": {},
   "outputs": [],
   "source": [
    "dataset_path = 'numpy_dataset'\n",
    "\n",
    "keypoint_names = [\n",
    "    'nose',  # 0\n",
    "    'left_eye',  # 1\n",
    "    'right_eye', # 2\n",
    "    'left_ear', # 3\n",
    "    'right_ear', # 4\n",
    "    'left_shoulder', # 5 \n",
    "    'right_shoulder', # 6\n",
    "    'left_elbow', # 7\n",
    "    'right_elbow', # 8\n",
    "    'left_wrist', # 9\n",
    "    'right_wrist', # 10\n",
    "    'left_hip', # 11\n",
    "    'right_hip', # 12\n",
    "    'left_knee', # 13\n",
    "    'right_knee', # 14\n",
    "    'left_ankle', # 15\n",
    "    'right_ankle' # 16\n",
    "    ]\n",
    "\n",
    "keypoints_to_detect = [\n",
    "    5, # left shoulder\n",
    "    7, # left elbow\n",
    "    9, # left wrist\n",
    "    13, # left knee\n",
    "    15, # left ankle\n",
    "]"
   ]
  },
  {
   "cell_type": "code",
   "execution_count": 3,
   "metadata": {},
   "outputs": [
    {
     "name": "stdout",
     "output_type": "stream",
     "text": [
      "01_1R_SG.MOV.pkl (5, 150, 2)\n",
      "01_1_SG.MOV.pkl (5, 150, 2)\n",
      "07_1-2_SG.MOV.pkl (5, 150, 2)\n",
      "08_1_SG.MOV.pkl (5, 150, 2)\n",
      "10_1-2_SG.MOV.pkl (5, 150, 2)\n",
      "11_1-2_SG.MOV.pkl (5, 150, 2)\n",
      "12_1_SG.MOV.pkl (5, 150, 2)\n",
      "13_1_SG.MOV.pkl (5, 150, 2)\n",
      "14_1_SG.MOV.pkl (5, 150, 2)\n",
      "15_1_SG.MOV.pkl (5, 150, 2)\n",
      "16_1_SG.MOV.pkl (5, 150, 2)\n",
      "17_1_SG.MOV.pkl (5, 150, 2)\n",
      "18_1_SG.MOV.pkl (5, 150, 2)\n",
      "19_1_SG.MOV.pkl (5, 150, 2)\n",
      "20_1_SG.MOV.pkl (5, 150, 2)\n"
     ]
    }
   ],
   "source": [
    "dataset = []\n",
    "\n",
    "for f in os.listdir(dataset_path) :\n",
    "    with open(os.path.join(dataset_path, f), 'rb') as file:\n",
    "        data = pickle.load(file)\n",
    "        print(f, data.shape)\n",
    "\n",
    "        for i in range(data.shape[1]-30):\n",
    "            dataset.append(data[:, i:i+30])\n",
    "        \n",
    "dataset = np.array(dataset)"
   ]
  },
  {
   "cell_type": "code",
   "execution_count": 4,
   "metadata": {},
   "outputs": [
    {
     "data": {
      "text/plain": [
       "(1800, 5, 30, 2)"
      ]
     },
     "execution_count": 4,
     "metadata": {},
     "output_type": "execute_result"
    }
   ],
   "source": [
    "dataset.shape"
   ]
  },
  {
   "cell_type": "code",
   "execution_count": 17,
   "metadata": {},
   "outputs": [],
   "source": [
    "def generate_random_mask() :\n",
    "    # generate random mask of shape (5, 30, 2) of ones\n",
    "    # in this random (5, 3, 2) contineous block will be 0's\n",
    "    mask = np.ones((5, 30, 2))\n",
    "    start = np.random.randint(0, 30-3)\n",
    "    mask[:, start:start+3] = 0\n",
    "    return mask\n",
    "\n",
    "def prepare_dataset(dataset):\n",
    "    X = []\n",
    "    Y = []\n",
    "    for data in dataset:\n",
    "        for i in range(10):\n",
    "            tmp_data = data.copy()\n",
    "            mask = generate_random_mask()\n",
    "            tmp_data = tmp_data * mask\n",
    "            x = np.concatenate([tmp_data, mask], axis=1)\n",
    "            y = data\n",
    "            X.append(x)\n",
    "            Y.append(y)\n",
    "    return np.array(X), np.array(Y)"
   ]
  },
  {
   "cell_type": "code",
   "execution_count": 18,
   "metadata": {},
   "outputs": [
    {
     "name": "stdout",
     "output_type": "stream",
     "text": [
      "(12600, 5, 60, 2) (12600, 5, 30, 2)\n",
      "(2700, 5, 60, 2) (2700, 5, 30, 2)\n",
      "(2700, 5, 60, 2) (2700, 5, 30, 2)\n"
     ]
    }
   ],
   "source": [
    "X, Y = prepare_dataset(dataset)\n",
    "train_split = 0.7\n",
    "val_split = 0.15\n",
    "test_split = 0.15\n",
    "X_train = X[:int(X.shape[0]*train_split)]\n",
    "Y_train = Y[:int(Y.shape[0]*train_split)]\n",
    "X_val = X[int(X.shape[0]*train_split):int(X.shape[0]*(train_split+val_split))]\n",
    "Y_val = Y[int(Y.shape[0]*train_split):int(Y.shape[0]*(train_split+val_split))]\n",
    "X_test = X[int(X.shape[0]*(train_split+val_split)):]\n",
    "Y_test = Y[int(Y.shape[0]*(train_split+val_split)):]\n",
    "print(X_train.shape, Y_train.shape)\n",
    "print(X_val.shape, Y_val.shape)\n",
    "print(X_test.shape, Y_test.shape)"
   ]
  },
  {
   "cell_type": "code",
   "execution_count": 26,
   "metadata": {},
   "outputs": [
    {
     "data": {
      "text/plain": [
       "[<matplotlib.lines.Line2D at 0x1c93e845670>,\n",
       " <matplotlib.lines.Line2D at 0x1c93e845700>]"
      ]
     },
     "execution_count": 26,
     "metadata": {},
     "output_type": "execute_result"
    },
    {
     "data": {
      "image/png": "[encoded data removed]",
      "text/plain": [
       "<Figure size 640x480 with 1 Axes>"
      ]
     },
     "metadata": {},
     "output_type": "display_data"
    }
   ],
   "source": [
    "# plot dotted graph\n",
    "plt.plot(X_train[0, 1, :30], 'ro', markersize=1)"
   ]
  },
  {
   "cell_type": "code",
   "execution_count": 27,
   "metadata": {},
   "outputs": [],
   "source": [
    "def make_model() :\n",
    "    # input shape (5, 60, 2)\n",
    "    # output shape (5, 30, 2)\n",
    "    inp = keras.layers.Input(shape=(5, 60, 2))\n",
    "    x = keras.layers.Conv2D(32, (3, 3), activation='relu', padding='same')(inp)\n",
    "    x = keras.layers.Conv2D(64, (3, 3), activation='relu', padding='same')(x)\n",
    "    x = keras.layers.Conv2D(128, (3, 3), activation='relu', padding='same')(x)\n",
    "    x = keras.layers.Conv2D(256, (3, 3), activation='relu', padding='same')(x)\n",
    "    x = keras.layers.Conv2DTranspose(128, (3, 3), activation='relu', padding='same')(x)\n",
    "    x = keras.layers.Conv2DTranspose(64, (3, 3), activation='relu', padding='same')(x)\n",
    "    x = keras.layers.Conv2DTranspose(32, (3, 3), activation='relu', padding='same')(x)\n",
    "    x = keras.layers.Conv2DTranspose(2, (3, 3), activation='relu', padding='same')(x)\n",
    "    x = keras.layers.Flatten()(x)\n",
    "    x = keras.layers.Dense(5*30*2)(x)\n",
    "    x = keras.layers.Reshape((5, 30, 2))(x)\n",
    "    out = x\n",
    "    model = keras.Model(inp, out)\n",
    "    return model\n",
    "    "
   ]
  },
  {
   "cell_type": "code",
   "execution_count": 28,
   "metadata": {},
   "outputs": [],
   "source": [
    "model = make_model()"
   ]
  },
  {
   "cell_type": "code",
   "execution_count": 29,
   "metadata": {},
   "outputs": [
    {
     "name": "stdout",
     "output_type": "stream",
     "text": [
      "Model: \"model_1\"\n",
      "_________________________________________________________________\n",
      " Layer (type)                Output Shape              Param #   \n",
      "=================================================================\n",
      " input_2 (InputLayer)        [(None, 5, 60, 2)]        0         \n",
      "                                                                 \n",
      " conv2d_4 (Conv2D)           (None, 5, 60, 32)         608       \n",
      "                                                                 \n",
      " conv2d_5 (Conv2D)           (None, 5, 60, 64)         18496     \n",
      "                                                                 \n",
      " conv2d_6 (Conv2D)           (None, 5, 60, 128)        73856     \n",
      "                                                                 \n",
      " conv2d_7 (Conv2D)           (None, 5, 60, 256)        295168    \n",
      "                                                                 \n",
      " conv2d_transpose_4 (Conv2DT  (None, 5, 60, 128)       295040    \n",
      " ranspose)                                                       \n",
      "                                                                 \n",
      " conv2d_transpose_5 (Conv2DT  (None, 5, 60, 64)        73792     \n",
      " ranspose)                                                       \n",
      "                                                                 \n",
      " conv2d_transpose_6 (Conv2DT  (None, 5, 60, 32)        18464     \n",
      " ranspose)                                                       \n",
      "                                                                 \n",
      " conv2d_transpose_7 (Conv2DT  (None, 5, 60, 2)         578       \n",
      " ranspose)                                                       \n",
      "                                                                 \n",
      " flatten_1 (Flatten)         (None, 600)               0         \n",
      "                                                                 \n",
      " dense_1 (Dense)             (None, 300)               180300    \n",
      "                                                                 \n",
      " reshape_1 (Reshape)         (None, 5, 30, 2)          0         \n",
      "                                                                 \n",
      "=================================================================\n",
      "Total params: 956,302\n",
      "Trainable params: 956,302\n",
      "Non-trainable params: 0\n",
      "_________________________________________________________________\n"
     ]
    }
   ],
   "source": [
    "model.summary()"
   ]
  },
  {
   "cell_type": "code",
   "execution_count": 30,
   "metadata": {},
   "outputs": [],
   "source": [
    "model.compile(optimizer=keras.optimizers.Adam(0.0001), loss='mse')"
   ]
  },
  {
   "cell_type": "code",
   "execution_count": 31,
   "metadata": {},
   "outputs": [
    {
     "name": "stdout",
     "output_type": "stream",
     "text": [
      "Epoch 1/100\n",
      "394/394 [==============================] - 81s 205ms/step - loss: 2826.0146 - val_loss: 124.3937\n",
      "Epoch 2/100\n",
      "394/394 [==============================] - 82s 207ms/step - loss: 261.4795 - val_loss: 39.5111\n",
      "Epoch 3/100\n",
      "394/394 [==============================] - 81s 206ms/step - loss: 164.4400 - val_loss: 34.0800\n",
      "Epoch 4/100\n",
      "394/394 [==============================] - 81s 205ms/step - loss: 136.8563 - val_loss: 33.6612\n",
      "Epoch 5/100\n",
      "394/394 [==============================] - 81s 205ms/step - loss: 118.6145 - val_loss: 27.4096\n",
      "Epoch 6/100\n",
      "394/394 [==============================] - 82s 207ms/step - loss: 104.6379 - val_loss: 24.0383\n",
      "Epoch 7/100\n",
      "394/394 [==============================] - 80s 203ms/step - loss: 92.8723 - val_loss: 23.1256\n",
      "Epoch 8/100\n",
      "394/394 [==============================] - 80s 204ms/step - loss: 83.9617 - val_loss: 21.6859\n",
      "Epoch 9/100\n",
      "394/394 [==============================] - 81s 205ms/step - loss: 77.7154 - val_loss: 22.2302\n",
      "Epoch 10/100\n",
      "394/394 [==============================] - 81s 205ms/step - loss: 73.0298 - val_loss: 21.1452\n",
      "Epoch 11/100\n",
      "394/394 [==============================] - 79s 201ms/step - loss: 69.0350 - val_loss: 21.4159\n",
      "Epoch 12/100\n",
      "394/394 [==============================] - 80s 202ms/step - loss: 66.5290 - val_loss: 18.5495\n",
      "Epoch 13/100\n",
      "394/394 [==============================] - 80s 204ms/step - loss: 63.4337 - val_loss: 19.0301\n",
      "Epoch 14/100\n",
      "394/394 [==============================] - 80s 203ms/step - loss: 61.9173 - val_loss: 21.1036\n",
      "Epoch 15/100\n",
      "394/394 [==============================] - 80s 204ms/step - loss: 59.1050 - val_loss: 16.5766\n",
      "Epoch 16/100\n",
      "394/394 [==============================] - 79s 201ms/step - loss: 57.3773 - val_loss: 19.7357\n",
      "Epoch 17/100\n",
      "394/394 [==============================] - 79s 202ms/step - loss: 55.4713 - val_loss: 15.4204\n",
      "Epoch 18/100\n",
      "394/394 [==============================] - 79s 201ms/step - loss: 53.9286 - val_loss: 16.4027\n",
      "Epoch 19/100\n",
      "394/394 [==============================] - 78s 199ms/step - loss: 52.0681 - val_loss: 17.1391\n",
      "Epoch 20/100\n",
      "394/394 [==============================] - 81s 205ms/step - loss: 50.3958 - val_loss: 15.6218\n",
      "Epoch 21/100\n",
      "394/394 [==============================] - 81s 206ms/step - loss: 48.6267 - val_loss: 14.1615\n",
      "Epoch 22/100\n",
      "394/394 [==============================] - 80s 204ms/step - loss: 46.6914 - val_loss: 15.0269\n",
      "Epoch 23/100\n",
      "394/394 [==============================] - 80s 204ms/step - loss: 45.2042 - val_loss: 18.9599\n",
      "Epoch 24/100\n",
      "394/394 [==============================] - 80s 202ms/step - loss: 43.3329 - val_loss: 15.2735\n",
      "Epoch 25/100\n",
      "394/394 [==============================] - 79s 201ms/step - loss: 41.9551 - val_loss: 13.8647\n",
      "Epoch 26/100\n",
      "394/394 [==============================] - 80s 203ms/step - loss: 39.9638 - val_loss: 14.3896\n",
      "Epoch 27/100\n",
      "394/394 [==============================] - 80s 203ms/step - loss: 38.7118 - val_loss: 13.4808\n",
      "Epoch 28/100\n",
      "394/394 [==============================] - 80s 203ms/step - loss: 37.1677 - val_loss: 13.7072\n",
      "Epoch 29/100\n",
      "394/394 [==============================] - 81s 205ms/step - loss: 36.5673 - val_loss: 12.8239\n",
      "Epoch 30/100\n",
      "394/394 [==============================] - 79s 199ms/step - loss: 34.3069 - val_loss: 12.6314\n",
      "Epoch 31/100\n",
      "394/394 [==============================] - 78s 199ms/step - loss: 33.9492 - val_loss: 13.0703\n",
      "Epoch 32/100\n",
      "394/394 [==============================] - 78s 198ms/step - loss: 32.6442 - val_loss: 13.4105\n",
      "Epoch 33/100\n",
      "394/394 [==============================] - 79s 200ms/step - loss: 31.4809 - val_loss: 12.8983\n",
      "Epoch 34/100\n",
      "394/394 [==============================] - 79s 200ms/step - loss: 30.6641 - val_loss: 13.1249\n",
      "Epoch 35/100\n",
      "394/394 [==============================] - 79s 200ms/step - loss: 30.0038 - val_loss: 12.9400\n",
      "Epoch 36/100\n",
      "394/394 [==============================] - 79s 200ms/step - loss: 28.7698 - val_loss: 12.3872\n",
      "Epoch 37/100\n",
      "394/394 [==============================] - 79s 200ms/step - loss: 28.1138 - val_loss: 11.8180\n",
      "Epoch 38/100\n",
      "394/394 [==============================] - 78s 199ms/step - loss: 27.2802 - val_loss: 12.0661\n",
      "Epoch 39/100\n",
      "394/394 [==============================] - 79s 200ms/step - loss: 26.5248 - val_loss: 15.3837\n",
      "Epoch 40/100\n",
      "394/394 [==============================] - 80s 203ms/step - loss: 25.7599 - val_loss: 12.1761\n",
      "Epoch 41/100\n",
      "394/394 [==============================] - 80s 204ms/step - loss: 25.2393 - val_loss: 14.3753\n",
      "Epoch 42/100\n",
      "394/394 [==============================] - 79s 201ms/step - loss: 24.3104 - val_loss: 10.8320\n",
      "Epoch 43/100\n",
      "394/394 [==============================] - 79s 201ms/step - loss: 23.5930 - val_loss: 15.2031\n",
      "Epoch 44/100\n",
      "394/394 [==============================] - 79s 201ms/step - loss: 23.1410 - val_loss: 10.6136\n",
      "Epoch 45/100\n",
      "394/394 [==============================] - 78s 199ms/step - loss: 22.2452 - val_loss: 13.7734\n",
      "Epoch 46/100\n",
      "394/394 [==============================] - 79s 200ms/step - loss: 22.0246 - val_loss: 10.5327\n",
      "Epoch 47/100\n",
      "394/394 [==============================] - 78s 199ms/step - loss: 20.9732 - val_loss: 11.1830\n",
      "Epoch 48/100\n",
      "394/394 [==============================] - 78s 199ms/step - loss: 20.8334 - val_loss: 11.5474\n",
      "Epoch 49/100\n",
      "394/394 [==============================] - 78s 198ms/step - loss: 20.0309 - val_loss: 11.7864\n",
      "Epoch 50/100\n",
      "394/394 [==============================] - 79s 201ms/step - loss: 19.5518 - val_loss: 12.8619\n",
      "Epoch 51/100\n",
      "394/394 [==============================] - 80s 203ms/step - loss: 19.1311 - val_loss: 10.9354\n",
      "Epoch 52/100\n",
      "394/394 [==============================] - 79s 202ms/step - loss: 18.5702 - val_loss: 11.3159\n",
      "Epoch 53/100\n",
      "394/394 [==============================] - 78s 199ms/step - loss: 18.3706 - val_loss: 9.6060\n",
      "Epoch 54/100\n",
      "394/394 [==============================] - 79s 201ms/step - loss: 17.5757 - val_loss: 10.4301\n",
      "Epoch 55/100\n",
      "394/394 [==============================] - 79s 201ms/step - loss: 17.9221 - val_loss: 10.2153\n",
      "Epoch 56/100\n",
      "394/394 [==============================] - 79s 200ms/step - loss: 16.9847 - val_loss: 17.5209\n",
      "Epoch 57/100\n",
      "394/394 [==============================] - 79s 200ms/step - loss: 16.7359 - val_loss: 10.5990\n",
      "Epoch 58/100\n",
      "394/394 [==============================] - 79s 200ms/step - loss: 16.6434 - val_loss: 9.8118\n",
      "Epoch 59/100\n",
      "394/394 [==============================] - 79s 199ms/step - loss: 16.0453 - val_loss: 9.8462\n",
      "Epoch 60/100\n",
      "394/394 [==============================] - 82s 207ms/step - loss: 15.5840 - val_loss: 14.4231\n",
      "Epoch 61/100\n",
      "394/394 [==============================] - 80s 203ms/step - loss: 15.6010 - val_loss: 10.9732\n",
      "Epoch 62/100\n",
      "394/394 [==============================] - 80s 202ms/step - loss: 15.7424 - val_loss: 9.4775\n",
      "Epoch 63/100\n",
      "394/394 [==============================] - 80s 203ms/step - loss: 15.0312 - val_loss: 10.2816\n",
      "Epoch 64/100\n",
      "394/394 [==============================] - 81s 205ms/step - loss: 15.0329 - val_loss: 10.3526\n",
      "Epoch 65/100\n",
      "394/394 [==============================] - 81s 204ms/step - loss: 14.6691 - val_loss: 9.1397\n",
      "Epoch 66/100\n",
      "394/394 [==============================] - 80s 202ms/step - loss: 14.4740 - val_loss: 9.4897\n",
      "Epoch 67/100\n",
      "394/394 [==============================] - 80s 202ms/step - loss: 14.4188 - val_loss: 9.2076\n",
      "Epoch 68/100\n",
      "394/394 [==============================] - 79s 201ms/step - loss: 14.1999 - val_loss: 11.5160\n",
      "Epoch 69/100\n",
      "394/394 [==============================] - 80s 202ms/step - loss: 14.0157 - val_loss: 9.5947\n",
      "Epoch 70/100\n",
      "394/394 [==============================] - 80s 203ms/step - loss: 13.8911 - val_loss: 9.9550\n",
      "Epoch 71/100\n",
      "394/394 [==============================] - 80s 203ms/step - loss: 13.7516 - val_loss: 9.1762\n",
      "Epoch 72/100\n",
      "394/394 [==============================] - 80s 203ms/step - loss: 13.2814 - val_loss: 11.2043\n",
      "Epoch 73/100\n",
      "394/394 [==============================] - 79s 200ms/step - loss: 13.2918 - val_loss: 9.3063\n",
      "Epoch 74/100\n",
      "394/394 [==============================] - 78s 199ms/step - loss: 13.4833 - val_loss: 11.5604\n",
      "Epoch 75/100\n",
      "394/394 [==============================] - 80s 202ms/step - loss: 13.1380 - val_loss: 11.5522\n",
      "Epoch 76/100\n",
      "394/394 [==============================] - 80s 203ms/step - loss: 12.8060 - val_loss: 9.4218\n",
      "Epoch 77/100\n",
      "394/394 [==============================] - 80s 203ms/step - loss: 12.7647 - val_loss: 11.6170\n",
      "Epoch 78/100\n",
      "394/394 [==============================] - 80s 202ms/step - loss: 12.8957 - val_loss: 10.7062\n",
      "Epoch 79/100\n",
      "394/394 [==============================] - 79s 201ms/step - loss: 12.7877 - val_loss: 11.1809\n",
      "Epoch 80/100\n",
      "394/394 [==============================] - 79s 202ms/step - loss: 12.7369 - val_loss: 8.9102\n",
      "Epoch 81/100\n",
      "394/394 [==============================] - 79s 201ms/step - loss: 12.2674 - val_loss: 9.4692\n",
      "Epoch 82/100\n",
      "394/394 [==============================] - 80s 203ms/step - loss: 12.0935 - val_loss: 12.6257\n",
      "Epoch 83/100\n",
      "394/394 [==============================] - 80s 203ms/step - loss: 12.4409 - val_loss: 10.3218\n",
      "Epoch 84/100\n",
      "394/394 [==============================] - 79s 201ms/step - loss: 12.1597 - val_loss: 12.7525\n",
      "Epoch 85/100\n",
      "394/394 [==============================] - 79s 201ms/step - loss: 12.3094 - val_loss: 8.8316\n",
      "Epoch 86/100\n",
      "394/394 [==============================] - 79s 201ms/step - loss: 11.3511 - val_loss: 11.4599\n",
      "Epoch 87/100\n",
      "394/394 [==============================] - 80s 202ms/step - loss: 11.5406 - val_loss: 9.2189\n",
      "Epoch 88/100\n",
      "394/394 [==============================] - 79s 200ms/step - loss: 11.5781 - val_loss: 9.8644\n",
      "Epoch 89/100\n",
      "394/394 [==============================] - 79s 201ms/step - loss: 11.1697 - val_loss: 9.5933\n",
      "Epoch 90/100\n",
      "394/394 [==============================] - 80s 203ms/step - loss: 11.2695 - val_loss: 9.8998\n",
      "Epoch 91/100\n",
      "394/394 [==============================] - 80s 204ms/step - loss: 11.4735 - val_loss: 10.3978\n",
      "Epoch 92/100\n",
      "394/394 [==============================] - 79s 202ms/step - loss: 10.8112 - val_loss: 11.4709\n",
      "Epoch 93/100\n",
      "394/394 [==============================] - 80s 203ms/step - loss: 10.9745 - val_loss: 9.9570\n",
      "Epoch 94/100\n",
      "394/394 [==============================] - 79s 202ms/step - loss: 10.5379 - val_loss: 9.0376\n",
      "Epoch 95/100\n",
      "394/394 [==============================] - 79s 201ms/step - loss: 10.4365 - val_loss: 10.8749\n",
      "Epoch 96/100\n",
      "394/394 [==============================] - 79s 202ms/step - loss: 10.3597 - val_loss: 9.6455\n",
      "Epoch 97/100\n",
      "394/394 [==============================] - 79s 201ms/step - loss: 10.3631 - val_loss: 11.2656\n",
      "Epoch 98/100\n",
      "394/394 [==============================] - 82s 209ms/step - loss: 10.5975 - val_loss: 9.3582\n",
      "Epoch 99/100\n",
      "394/394 [==============================] - 82s 208ms/step - loss: 9.8656 - val_loss: 10.5714\n",
      "Epoch 100/100\n",
      "394/394 [==============================] - 82s 208ms/step - loss: 10.2536 - val_loss: 9.8774\n"
     ]
    }
   ],
   "source": [
    "history = model.fit(X_train, \n",
    "                    Y_train, \n",
    "                    validation_data=(X_val, Y_val), \n",
    "                    epochs=100, \n",
    "                    batch_size=32,\n",
    "                    callbacks=[keras.callbacks.ModelCheckpoint('model.h5', save_best_only=True)])"
   ]
  },
  {
   "cell_type": "code",
   "execution_count": 36,
   "metadata": {},
   "outputs": [
    {
     "data": {
      "image/png": "[encoded data removed]",
      "text/plain": [
       "<Figure size 640x480 with 1 Axes>"
      ]
     },
     "metadata": {},
     "output_type": "display_data"
    }
   ],
   "source": [
    "loss = history.history['loss']\n",
    "val_loss = history.history['val_loss']  \n",
    "plt.plot(loss)\n",
    "plt.plot(val_loss)\n",
    "plt.show()"
   ]
  },
  {
   "cell_type": "code",
   "execution_count": 62,
   "metadata": {},
   "outputs": [
    {
     "name": "stdout",
     "output_type": "stream",
     "text": [
      "1/1 [==============================] - 0s 22ms/step\n"
     ]
    },
    {
     "data": {
      "text/plain": [
       "<matplotlib.legend.Legend at 0x1c93f52f4f0>"
      ]
     },
     "execution_count": 62,
     "metadata": {},
     "output_type": "execute_result"
    },
    {
     "data": {
      "image/png": "[encoded data removed]",
      "text/plain": [
       "<Figure size 640x480 with 1 Axes>"
      ]
     },
     "metadata": {},
     "output_type": "display_data"
    }
   ],
   "source": [
    "index = np.random.randint(0, X_test.shape[0])\n",
    "keypoint_index = np.random.randint(0, 5)\n",
    "y = model.predict(X_test[index:index+1])\n",
    "# plt.plot(X_test[0, 1, :30], 'ro', markersize=1)\n",
    "# plt.plot(y[0, 1], 'ro', markersize=1)\n",
    "# plt.plot(Y_test[index, 1], 'bo', markersize=1)\n",
    "plt.plot(X_test[index, keypoint_index, :30, 0], 'o', markersize=1)\n",
    "plt.plot(y[0, keypoint_index, :, 0], 'o', markersize=1)\n",
    "plt.legend(['input', 'output'])"
   ]
  },
  {
   "cell_type": "code",
   "execution_count": 67,
   "metadata": {},
   "outputs": [
    {
     "data": {
      "text/plain": [
       "<matplotlib.legend.Legend at 0x1c9408f3f40>"
      ]
     },
     "execution_count": 67,
     "metadata": {},
     "output_type": "execute_result"
    },
    {
     "data": {
      "image/png": "[encoded data removed]",
      "text/plain": [
       "<Figure size 640x480 with 1 Axes>"
      ]
     },
     "metadata": {},
     "output_type": "display_data"
    }
   ],
   "source": [
    "plt.plot(X_test[index, keypoint_index, :30, 1], 'o', markersize=1)\n",
    "plt.plot(y[0, keypoint_index, :, 1], 'o', markersize=1)\n",
    "plt.legend(['input', 'output'])"
   ]
  },
  {
   "cell_type": "code",
   "execution_count": 68,
   "metadata": {},
   "outputs": [
    {
     "data": {
      "text/plain": [
       "3"
      ]
     },
     "execution_count": 68,
     "metadata": {},
     "output_type": "execute_result"
    }
   ],
   "source": [
    "keypoint_index"
   ]
  },
  {
   "cell_type": "code",
   "execution_count": 65,
   "metadata": {},
   "outputs": [
    {
     "name": "stdout",
     "output_type": "stream",
     "text": [
      "85/85 [==============================] - 5s 55ms/step - loss: 6.4083\n",
      "85/85 [==============================] - 5s 57ms/step\n"
     ]
    }
   ],
   "source": [
    "# mse loss on test data\n",
    "mse_loss = model.evaluate(X_test, Y_test)\n",
    "\n",
    "# mape loss on test data\n",
    "mape_score = np.mean(np.abs(Y_test - model.predict(X_test)) / Y_test)"
   ]
  },
  {
   "cell_type": "code",
   "execution_count": 66,
   "metadata": {},
   "outputs": [
    {
     "name": "stdout",
     "output_type": "stream",
     "text": [
      "MSE Loss on Test Data :  6.408304214477539\n",
      "MAPE Score on Test Data :  0.011852960192857854\n"
     ]
    }
   ],
   "source": [
    "print(\"MSE Loss on Test Data : \", mse_loss)\n",
    "print(\"MAPE Score on Test Data : \", mape_score)"
   ]
  },
  {
   "cell_type": "code",
   "execution_count": null,
   "metadata": {},
   "outputs": [],
   "source": []
  }
 ],
 "metadata": {
  "kernelspec": {
   "display_name": "ai",
   "language": "python",
   "name": "python3"
  },
  "language_info": {
   "codemirror_mode": {
    "name": "ipython",
    "version": 3
   },
   "file_extension": ".py",
   "mimetype": "text/x-python",
   "name": "python",
   "nbconvert_exporter": "python",
   "pygments_lexer": "ipython3",
   "version": "3.9.19"
  }
 },
 "nbformat": 4,
 "nbformat_minor": 2
}
