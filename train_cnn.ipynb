{
 "cells": [
  {
   "cell_type": "code",
   "execution_count": 1,
   "metadata": {},
   "outputs": [],
   "source": [
    "import os\n",
    "import numpy as np\n",
    "import cv2\n",
    "import matplotlib.pyplot as plt\n",
    "import pickle\n",
    "\n",
    "import tensorflow as tf\n",
    "from tensorflow import keras\n",
    "\n"
   ]
  },
  {
   "cell_type": "code",
   "execution_count": 2,
   "metadata": {},
   "outputs": [],
   "source": [
    "dataset_path = 'numpy_dataset'\n",
    "\n",
    "keypoint_names = [\n",
    "    'nose',  # 0\n",
    "    'left_eye',  # 1\n",
    "    'right_eye', # 2\n",
    "    'left_ear', # 3\n",
    "    'right_ear', # 4\n",
    "    'left_shoulder', # 5 \n",
    "    'right_shoulder', # 6\n",
    "    'left_elbow', # 7\n",
    "    'right_elbow', # 8\n",
    "    'left_wrist', # 9\n",
    "    'right_wrist', # 10\n",
    "    'left_hip', # 11\n",
    "    'right_hip', # 12\n",
    "    'left_knee', # 13\n",
    "    'right_knee', # 14\n",
    "    'left_ankle', # 15\n",
    "    'right_ankle' # 16\n",
    "    ]\n",
    "\n",
    "keypoints_to_detect = [\n",
    "    5, # left shoulder\n",
    "    7, # left elbow\n",
    "    9, # left wrist\n",
    "    13, # left knee\n",
    "    15, # left ankle\n",
    "]"
   ]
  },
  {
   "cell_type": "code",
   "execution_count": 3,
   "metadata": {},
   "outputs": [
    {
     "name": "stdout",
     "output_type": "stream",
     "text": [
      "01_1R_SG.MOV.pkl (5, 150, 2)\n",
      "01_1_SG.MOV.pkl (5, 150, 2)\n",
      "01_2R_SG.MOV.pkl (5, 150, 2)\n",
      "01_2_SG.MOV.pkl (5, 150, 2)\n",
      "01_3R_SG.MOV.pkl (5, 150, 2)\n",
      "01_3_SG.MOV.pkl (5, 150, 2)\n",
      "01_4_SG.MOV.pkl (5, 150, 2)\n",
      "01_5_SG.MOV.pkl (5, 150, 2)\n",
      "01_6_SG.MOV.pkl (5, 150, 2)\n",
      "02_2_SG.MOV.pkl (5, 150, 2)\n",
      "02_3_SG.MOV.pkl (5, 150, 2)\n",
      "02_5_SG.MOV.pkl (5, 150, 2)\n",
      "02_6_SG.MOV.pkl (5, 150, 2)\n",
      "03_2-2_SG.MOV.pkl (5, 150, 2)\n",
      "03_3-4_SG.MOV.pkl (5, 150, 2)\n",
      "03_5_SG.MOV.pkl (5, 150, 2)\n",
      "03_6_SG.MOV.pkl (5, 150, 2)\n",
      "04_2-2_SG.MOV.pkl (5, 150, 2)\n",
      "04_3_SG.MOV.pkl (5, 150, 2)\n",
      "04_4_SG.MOV.pkl (5, 150, 2)\n",
      "04_5_SG.MOV.pkl (5, 150, 2)\n",
      "04_6_SG.MOV.pkl (5, 150, 2)\n",
      "05_2-2_SG.MOV.pkl (5, 150, 2)\n",
      "05_3-4_SG.MOV.pkl (5, 150, 2)\n",
      "05_5_SG.MOV.pkl (5, 150, 2)\n",
      "05_6_SG.MOV.pkl (5, 150, 2)\n",
      "06_2-2_SG.MOV.pkl (5, 150, 2)\n",
      "06_3-4_SG.MOV.pkl (5, 150, 2)\n",
      "06_5_SG.MOV.pkl (5, 150, 2)\n",
      "06_6_SG.MOV.pkl (5, 150, 2)\n",
      "07_2-2_SG.MOV.pkl (5, 150, 2)\n",
      "07_3-4_SG.MOV.pkl (5, 150, 2)\n",
      "07_5_SG.MOV.pkl (5, 150, 2)\n",
      "07_6_SG.MOV.pkl (5, 150, 2)\n",
      "08_1_SG.MOV.pkl (5, 150, 2)\n",
      "08_2_SG.MOV.pkl (5, 150, 2)\n",
      "08_3-4_SG.MOV.pkl (5, 150, 2)\n",
      "08_5_SG.MOV.pkl (5, 150, 2)\n",
      "08_6_SG.MOV.pkl (5, 120, 2)\n",
      "09_2-2_SG.MOV.pkl (5, 150, 2)\n",
      "09_3R_SG.MOV.pkl (5, 150, 2)\n",
      "09_3_SG.MOV.pkl (5, 150, 2)\n",
      "09_4_SG.MOV.pkl (5, 150, 2)\n",
      "09_5_SG.MOV.pkl (5, 147, 2)\n",
      "09_6_SG.MOV.pkl (5, 141, 2)\n",
      "10_1-2_SG.MOV.pkl (5, 150, 2)\n",
      "10_3-4_SG.MOV.pkl (5, 150, 2)\n",
      "10_5_SG.MOV.pkl (5, 150, 2)\n",
      "10_6_SG.MOV.pkl (5, 150, 2)\n",
      "11_1-2_SG.MOV.pkl (5, 150, 2)\n",
      "11_3-4_SG.MOV.pkl (5, 150, 2)\n",
      "11_5_SG.MOV.pkl (5, 111, 2)\n",
      "11_6_SG.MOV.pkl (5, 150, 2)\n",
      "12_1_SG.MOV.pkl (5, 150, 2)\n",
      "12_2_SG.MOV.pkl (5, 150, 2)\n",
      "12_3_SG.MOV.pkl (5, 150, 2)\n",
      "12_4_SG.MOV.pkl (5, 150, 2)\n",
      "13_1_SG.MOV.pkl (5, 150, 2)\n",
      "13_2_SG.MOV.pkl (5, 150, 2)\n",
      "13_3_SG.MOV.pkl (5, 150, 2)\n",
      "13_4_SG.MOV.pkl (5, 150, 2)\n",
      "14_1_SG.MOV.pkl (5, 150, 2)\n",
      "14_2_SG.MOV.pkl (5, 150, 2)\n",
      "14_3_SG.MOV.pkl (5, 150, 2)\n",
      "14_4_SG.MOV.pkl (5, 150, 2)\n",
      "15_1_SG.MOV.pkl (5, 150, 2)\n",
      "15_2_SG.MOV.pkl (5, 150, 2)\n",
      "15_3_SG.MOV.pkl (5, 150, 2)\n",
      "15_4_SG.MOV.pkl (5, 150, 2)\n",
      "16_1_SG.MOV.pkl (5, 150, 2)\n",
      "16_2_SG.MOV.pkl (5, 150, 2)\n",
      "16_3_SG.MOV.pkl (5, 150, 2)\n",
      "16_4_SG.MOV.pkl (5, 150, 2)\n",
      "17_1_SG.MOV.pkl (5, 150, 2)\n",
      "17_2_SG.MOV.pkl (5, 150, 2)\n",
      "17_3_SG.MOV.pkl (5, 150, 2)\n",
      "17_4_SG.MOV.pkl (5, 150, 2)\n",
      "17_5_SG.MOV.pkl (5, 150, 2)\n",
      "17_6_SG.MOV.pkl (5, 150, 2)\n",
      "18_1_SG.MOV.pkl (5, 150, 2)\n",
      "18_2_SG.MOV.pkl (5, 150, 2)\n",
      "18_3_SG.MOV.pkl (5, 150, 2)\n",
      "18_4_SG.MOV.pkl (5, 150, 2)\n",
      "18_5_SG.MOV.pkl (5, 150, 2)\n",
      "18_6_SG.MOV.pkl (5, 129, 2)\n",
      "19_1_SG.MOV.pkl (5, 150, 2)\n",
      "19_2_SG.MOV.pkl (5, 150, 2)\n",
      "19_3_SG.MOV.pkl (5, 150, 2)\n",
      "19_4_SG.MOV.pkl (5, 150, 2)\n",
      "19_5_SG.MOV.pkl (5, 150, 2)\n",
      "19_6_SG.MOV.pkl (5, 150, 2)\n",
      "20_1_SG.MOV.pkl (5, 150, 2)\n",
      "20_2_SG.MOV.pkl (5, 150, 2)\n",
      "20_3_SG.MOV.pkl (5, 150, 2)\n",
      "20_4_SG.MOV.pkl (5, 150, 2)\n",
      "20_5_SG.MOV.pkl (5, 141, 2)\n",
      "20_6_SG.MOV.pkl (5, 150, 2)\n"
     ]
    }
   ],
   "source": [
    "dataset = []\n",
    "\n",
    "for f in os.listdir(dataset_path) :\n",
    "    with open(os.path.join(dataset_path, f), 'rb') as file:\n",
    "        data = pickle.load(file)\n",
    "        print(f, data.shape)\n",
    "\n",
    "        for i in range(data.shape[1]-30):\n",
    "            dataset.append(data[:, i:i+30])\n",
    "        \n",
    "dataset = np.array(dataset)"
   ]
  },
  {
   "cell_type": "code",
   "execution_count": 4,
   "metadata": {},
   "outputs": [
    {
     "data": {
      "text/plain": [
       "(11529, 5, 30, 2)"
      ]
     },
     "execution_count": 4,
     "metadata": {},
     "output_type": "execute_result"
    }
   ],
   "source": [
    "dataset.shape"
   ]
  },
  {
   "cell_type": "code",
   "execution_count": 5,
   "metadata": {},
   "outputs": [],
   "source": [
    "def generate_random_mask() :\n",
    "    # generate random mask of shape (5, 30, 2) of ones\n",
    "    # in this random (5, 3, 2) contineous block will be 0's\n",
    "    mask = np.ones((5, 30, 2))\n",
    "    start = np.random.randint(0, 30-3)\n",
    "    mask[:, start:start+3] = 0\n",
    "    return mask\n",
    "\n",
    "def prepare_dataset(dataset):\n",
    "    X = []\n",
    "    Y = []\n",
    "    for data in dataset:\n",
    "        for i in range(10):\n",
    "            tmp_data = data.copy()\n",
    "            mask = generate_random_mask()\n",
    "            tmp_data = tmp_data * mask\n",
    "            x = np.concatenate([tmp_data, mask], axis=1)\n",
    "            y = data\n",
    "            X.append(x)\n",
    "            Y.append(y)\n",
    "    return np.array(X), np.array(Y)"
   ]
  },
  {
   "cell_type": "code",
   "execution_count": 6,
   "metadata": {},
   "outputs": [
    {
     "name": "stdout",
     "output_type": "stream",
     "text": [
      "(80703, 5, 60, 2) (80703, 5, 30, 2)\n",
      "(17293, 5, 60, 2) (17293, 5, 30, 2)\n",
      "(17294, 5, 60, 2) (17294, 5, 30, 2)\n"
     ]
    }
   ],
   "source": [
    "import random\n",
    "random.shuffle(dataset)\n",
    "X, Y = prepare_dataset(dataset)\n",
    "train_split = 0.7\n",
    "val_split = 0.15\n",
    "test_split = 0.15\n",
    "X_train = X[:int(X.shape[0]*train_split)]\n",
    "Y_train = Y[:int(Y.shape[0]*train_split)]\n",
    "X_val = X[int(X.shape[0]*train_split):int(X.shape[0]*(train_split+val_split))]\n",
    "Y_val = Y[int(Y.shape[0]*train_split):int(Y.shape[0]*(train_split+val_split))]\n",
    "X_test = X[int(X.shape[0]*(train_split+val_split)):]\n",
    "Y_test = Y[int(Y.shape[0]*(train_split+val_split)):]\n",
    "print(X_train.shape, Y_train.shape)\n",
    "print(X_val.shape, Y_val.shape)\n",
    "print(X_test.shape, Y_test.shape)"
   ]
  },
  {
   "cell_type": "code",
   "execution_count": 7,
   "metadata": {},
   "outputs": [
    {
     "data": {
      "text/plain": [
       "[<matplotlib.lines.Line2D at 0x18884740430>,\n",
       " <matplotlib.lines.Line2D at 0x188847404f0>]"
      ]
     },
     "execution_count": 7,
     "metadata": {},
     "output_type": "execute_result"
    },
    {
     "data": {
      "image/png": "[encoded data removed]",
      "text/plain": [
       "<Figure size 640x480 with 1 Axes>"
      ]
     },
     "metadata": {},
     "output_type": "display_data"
    }
   ],
   "source": [
    "# plot dotted graph\n",
    "plt.plot(X_train[0, 1, :30], 'ro', markersize=1)"
   ]
  },
  {
   "cell_type": "code",
   "execution_count": 8,
   "metadata": {},
   "outputs": [],
   "source": [
    "def make_model() :\n",
    "    # input shape (5, 60, 2)\n",
    "    # output shape (5, 30, 2)\n",
    "    inp = keras.layers.Input(shape=(5, 60, 2))\n",
    "    x = keras.layers.Conv2D(32, (3, 3), activation='relu', padding='same')(inp)\n",
    "    x = keras.layers.Conv2D(64, (3, 3), activation='relu', padding='same')(x)\n",
    "    x = keras.layers.Conv2D(128, (3, 3), activation='relu', padding='same')(x)\n",
    "    x = keras.layers.Conv2D(256, (3, 3), activation='relu', padding='same')(x)\n",
    "    x = keras.layers.Conv2DTranspose(128, (3, 3), activation='relu', padding='same')(x)\n",
    "    x = keras.layers.Conv2DTranspose(64, (3, 3), activation='relu', padding='same')(x)\n",
    "    x = keras.layers.Conv2DTranspose(32, (3, 3), activation='relu', padding='same')(x)\n",
    "    x = keras.layers.Conv2DTranspose(2, (3, 3), activation='relu', padding='same')(x)\n",
    "    x = keras.layers.Flatten()(x)\n",
    "    x = keras.layers.Dense(5*30*2)(x)\n",
    "    x = keras.layers.Reshape((5, 30, 2))(x)\n",
    "    out = x\n",
    "    model = keras.Model(inp, out)\n",
    "    return model\n",
    "    "
   ]
  },
  {
   "cell_type": "code",
   "execution_count": 9,
   "metadata": {},
   "outputs": [],
   "source": [
    "model = make_model()"
   ]
  },
  {
   "cell_type": "code",
   "execution_count": 10,
   "metadata": {},
   "outputs": [
    {
     "name": "stdout",
     "output_type": "stream",
     "text": [
      "Model: \"model\"\n",
      "_________________________________________________________________\n",
      " Layer (type)                Output Shape              Param #   \n",
      "=================================================================\n",
      " input_1 (InputLayer)        [(None, 5, 60, 2)]        0         \n",
      "                                                                 \n",
      " conv2d (Conv2D)             (None, 5, 60, 32)         608       \n",
      "                                                                 \n",
      " conv2d_1 (Conv2D)           (None, 5, 60, 64)         18496     \n",
      "                                                                 \n",
      " conv2d_2 (Conv2D)           (None, 5, 60, 128)        73856     \n",
      "                                                                 \n",
      " conv2d_3 (Conv2D)           (None, 5, 60, 256)        295168    \n",
      "                                                                 \n",
      " conv2d_transpose (Conv2DTra  (None, 5, 60, 128)       295040    \n",
      " nspose)                                                         \n",
      "                                                                 \n",
      " conv2d_transpose_1 (Conv2DT  (None, 5, 60, 64)        73792     \n",
      " ranspose)                                                       \n",
      "                                                                 \n",
      " conv2d_transpose_2 (Conv2DT  (None, 5, 60, 32)        18464     \n",
      " ranspose)                                                       \n",
      "                                                                 \n",
      " conv2d_transpose_3 (Conv2DT  (None, 5, 60, 2)         578       \n",
      " ranspose)                                                       \n",
      "                                                                 \n",
      " flatten (Flatten)           (None, 600)               0         \n",
      "                                                                 \n",
      " dense (Dense)               (None, 300)               180300    \n",
      "                                                                 \n",
      " reshape (Reshape)           (None, 5, 30, 2)          0         \n",
      "                                                                 \n",
      "=================================================================\n",
      "Total params: 956,302\n",
      "Trainable params: 956,302\n",
      "Non-trainable params: 0\n",
      "_________________________________________________________________\n"
     ]
    }
   ],
   "source": [
    "model.summary()"
   ]
  },
  {
   "cell_type": "code",
   "execution_count": 12,
   "metadata": {},
   "outputs": [],
   "source": [
    "model.compile(optimizer=keras.optimizers.Adam(0.0001), loss='mse', metrics=['mae'])"
   ]
  },
  {
   "cell_type": "code",
   "execution_count": 13,
   "metadata": {},
   "outputs": [
    {
     "name": "stdout",
     "output_type": "stream",
     "text": [
      "Epoch 1/100\n",
      "2522/2522 [==============================] - 684s 271ms/step - loss: 307.4746 - mae: 6.8524 - val_loss: 26.3661 - val_mae: 2.8234\n",
      "Epoch 2/100\n",
      "2522/2522 [==============================] - 628s 249ms/step - loss: 22.3141 - mae: 2.6996 - val_loss: 20.3854 - val_mae: 2.3986\n",
      "Epoch 3/100\n",
      "2522/2522 [==============================] - 617s 244ms/step - loss: 19.6964 - mae: 2.5549 - val_loss: 17.3061 - val_mae: 2.2866\n",
      "Epoch 4/100\n",
      "2522/2522 [==============================] - 633s 251ms/step - loss: 17.1848 - mae: 2.3870 - val_loss: 15.6000 - val_mae: 2.2642\n",
      "Epoch 5/100\n",
      "2522/2522 [==============================] - 615s 244ms/step - loss: 15.2652 - mae: 2.2212 - val_loss: 14.2401 - val_mae: 2.1682\n",
      "Epoch 6/100\n",
      "2522/2522 [==============================] - 615s 244ms/step - loss: 13.9003 - mae: 2.0821 - val_loss: 11.9244 - val_mae: 1.8331\n",
      "Epoch 7/100\n",
      "2522/2522 [==============================] - 611s 242ms/step - loss: 12.7640 - mae: 1.9769 - val_loss: 11.1615 - val_mae: 1.7969\n",
      "Epoch 8/100\n",
      "2522/2522 [==============================] - 611s 242ms/step - loss: 11.8344 - mae: 1.9090 - val_loss: 11.9760 - val_mae: 2.1014\n",
      "Epoch 9/100\n",
      "2522/2522 [==============================] - 611s 242ms/step - loss: 10.9494 - mae: 1.8484 - val_loss: 9.5274 - val_mae: 1.6379\n",
      "Epoch 10/100\n",
      "2522/2522 [==============================] - 610s 242ms/step - loss: 10.1306 - mae: 1.8002 - val_loss: 9.3770 - val_mae: 1.6980\n",
      "Epoch 11/100\n",
      "2522/2522 [==============================] - 609s 241ms/step - loss: 9.4260 - mae: 1.7602 - val_loss: 9.4270 - val_mae: 1.8069\n",
      "Epoch 12/100\n",
      "2522/2522 [==============================] - 608s 241ms/step - loss: 8.8053 - mae: 1.7151 - val_loss: 8.5059 - val_mae: 1.6322\n",
      "Epoch 13/100\n",
      "2522/2522 [==============================] - 609s 242ms/step - loss: 8.3016 - mae: 1.6747 - val_loss: 8.3215 - val_mae: 1.6505\n",
      "Epoch 14/100\n",
      "2522/2522 [==============================] - 612s 243ms/step - loss: 7.8781 - mae: 1.6479 - val_loss: 7.6769 - val_mae: 1.5370\n",
      "Epoch 15/100\n",
      "2522/2522 [==============================] - 616s 244ms/step - loss: 7.5064 - mae: 1.6141 - val_loss: 7.5897 - val_mae: 1.5476\n",
      "Epoch 16/100\n",
      "2522/2522 [==============================] - 610s 242ms/step - loss: 7.2496 - mae: 1.6018 - val_loss: 7.1825 - val_mae: 1.4841\n",
      "Epoch 17/100\n",
      "2522/2522 [==============================] - 609s 242ms/step - loss: 6.8520 - mae: 1.5549 - val_loss: 6.9891 - val_mae: 1.4772\n",
      "Epoch 18/100\n",
      "2522/2522 [==============================] - 610s 242ms/step - loss: 6.6190 - mae: 1.5435 - val_loss: 7.1823 - val_mae: 1.5630\n",
      "Epoch 19/100\n",
      "2522/2522 [==============================] - 1249s 495ms/step - loss: 6.2968 - mae: 1.5098 - val_loss: 6.3325 - val_mae: 1.3659\n",
      "Epoch 20/100\n",
      "2522/2522 [==============================] - 625s 248ms/step - loss: 6.0472 - mae: 1.4900 - val_loss: 6.8553 - val_mae: 1.5115\n",
      "Epoch 21/100\n",
      "2522/2522 [==============================] - 617s 245ms/step - loss: 5.7630 - mae: 1.4632 - val_loss: 6.3720 - val_mae: 1.4490\n",
      "Epoch 22/100\n",
      "2522/2522 [==============================] - 611s 242ms/step - loss: 5.4299 - mae: 1.4225 - val_loss: 5.6473 - val_mae: 1.2866\n",
      "Epoch 23/100\n",
      "2522/2522 [==============================] - 612s 243ms/step - loss: 5.2309 - mae: 1.4087 - val_loss: 5.5195 - val_mae: 1.2757\n",
      "Epoch 24/100\n",
      "2522/2522 [==============================] - 608s 241ms/step - loss: 4.9402 - mae: 1.3714 - val_loss: 5.2734 - val_mae: 1.2412\n",
      "Epoch 25/100\n",
      "2522/2522 [==============================] - 616s 244ms/step - loss: 4.6735 - mae: 1.3377 - val_loss: 5.0594 - val_mae: 1.2085\n",
      "Epoch 26/100\n",
      "2522/2522 [==============================] - 608s 241ms/step - loss: 4.4580 - mae: 1.3084 - val_loss: 5.3502 - val_mae: 1.3300\n",
      "Epoch 27/100\n",
      "2522/2522 [==============================] - 613s 243ms/step - loss: 4.3090 - mae: 1.2882 - val_loss: 4.9041 - val_mae: 1.1897\n",
      "Epoch 28/100\n",
      "2522/2522 [==============================] - 609s 241ms/step - loss: 4.0810 - mae: 1.2521 - val_loss: 5.0198 - val_mae: 1.2816\n",
      "Epoch 29/100\n",
      "2522/2522 [==============================] - 609s 242ms/step - loss: 3.9103 - mae: 1.2235 - val_loss: 4.4861 - val_mae: 1.1295\n",
      "Epoch 30/100\n",
      "2522/2522 [==============================] - 610s 242ms/step - loss: 3.7939 - mae: 1.2070 - val_loss: 4.5595 - val_mae: 1.1646\n",
      "Epoch 31/100\n",
      "2522/2522 [==============================] - 610s 242ms/step - loss: 3.6281 - mae: 1.1764 - val_loss: 4.4412 - val_mae: 1.1482\n",
      "Epoch 32/100\n",
      "2522/2522 [==============================] - 609s 242ms/step - loss: 3.5162 - mae: 1.1550 - val_loss: 4.4812 - val_mae: 1.1686\n",
      "Epoch 33/100\n",
      "2522/2522 [==============================] - 609s 241ms/step - loss: 3.4286 - mae: 1.1424 - val_loss: 4.1707 - val_mae: 1.0902\n",
      "Epoch 34/100\n",
      "2522/2522 [==============================] - 609s 242ms/step - loss: 3.3531 - mae: 1.1288 - val_loss: 4.2440 - val_mae: 1.1277\n",
      "Epoch 35/100\n",
      "2522/2522 [==============================] - 610s 242ms/step - loss: 3.2333 - mae: 1.1048 - val_loss: 3.8728 - val_mae: 1.0215\n",
      "Epoch 36/100\n",
      "2522/2522 [==============================] - 609s 242ms/step - loss: 3.1833 - mae: 1.0997 - val_loss: 3.9552 - val_mae: 1.0588\n",
      "Epoch 37/100\n",
      "2522/2522 [==============================] - 613s 243ms/step - loss: 3.0787 - mae: 1.0767 - val_loss: 4.1445 - val_mae: 1.1521\n",
      "Epoch 38/100\n",
      "2522/2522 [==============================] - 615s 244ms/step - loss: 3.0515 - mae: 1.0783 - val_loss: 3.9848 - val_mae: 1.0421\n",
      "Epoch 39/100\n",
      "2522/2522 [==============================] - 613s 243ms/step - loss: 2.9850 - mae: 1.0652 - val_loss: 3.7365 - val_mae: 1.0159\n",
      "Epoch 40/100\n",
      "2522/2522 [==============================] - 622s 247ms/step - loss: 2.9137 - mae: 1.0482 - val_loss: 4.2390 - val_mae: 1.1813\n",
      "Epoch 41/100\n",
      "2522/2522 [==============================] - 623s 247ms/step - loss: 2.8562 - mae: 1.0425 - val_loss: 3.6557 - val_mae: 1.0128\n",
      "Epoch 42/100\n",
      "2522/2522 [==============================] - 621s 246ms/step - loss: 2.8318 - mae: 1.0392 - val_loss: 3.7527 - val_mae: 1.0601\n",
      "Epoch 43/100\n",
      "2522/2522 [==============================] - 623s 247ms/step - loss: 2.7871 - mae: 1.0349 - val_loss: 3.7456 - val_mae: 1.0751\n",
      "Epoch 44/100\n",
      "2522/2522 [==============================] - 625s 248ms/step - loss: 2.6771 - mae: 1.0077 - val_loss: 3.4677 - val_mae: 0.9890\n",
      "Epoch 45/100\n",
      "2522/2522 [==============================] - 623s 247ms/step - loss: 2.6616 - mae: 1.0090 - val_loss: 3.3895 - val_mae: 0.9682\n",
      "Epoch 46/100\n",
      "2522/2522 [==============================] - 622s 247ms/step - loss: 2.6242 - mae: 1.0029 - val_loss: 3.5391 - val_mae: 1.0361\n",
      "Epoch 47/100\n",
      "2522/2522 [==============================] - 621s 246ms/step - loss: 2.5716 - mae: 0.9944 - val_loss: 3.2922 - val_mae: 0.9527\n",
      "Epoch 48/100\n",
      "2522/2522 [==============================] - 625s 248ms/step - loss: 2.5164 - mae: 0.9843 - val_loss: 4.0049 - val_mae: 1.2285\n",
      "Epoch 49/100\n",
      "2522/2522 [==============================] - 630s 250ms/step - loss: 2.4726 - mae: 0.9758 - val_loss: 3.1469 - val_mae: 0.9188\n",
      "Epoch 50/100\n",
      "2522/2522 [==============================] - 627s 249ms/step - loss: 2.4473 - mae: 0.9658 - val_loss: 3.5820 - val_mae: 1.1038\n",
      "Epoch 51/100\n",
      "2522/2522 [==============================] - 628s 249ms/step - loss: 2.4021 - mae: 0.9641 - val_loss: 3.2858 - val_mae: 0.9918\n",
      "Epoch 52/100\n",
      "2522/2522 [==============================] - 627s 249ms/step - loss: 2.3632 - mae: 0.9545 - val_loss: 3.4179 - val_mae: 1.0378\n",
      "Epoch 53/100\n",
      "2522/2522 [==============================] - 628s 249ms/step - loss: 2.3075 - mae: 0.9419 - val_loss: 2.9854 - val_mae: 0.8824\n",
      "Epoch 54/100\n",
      "2522/2522 [==============================] - 628s 249ms/step - loss: 2.2927 - mae: 0.9416 - val_loss: 3.0982 - val_mae: 0.9559\n",
      "Epoch 55/100\n",
      "2522/2522 [==============================] - 642s 255ms/step - loss: 2.2304 - mae: 0.9273 - val_loss: 3.0695 - val_mae: 0.9431\n",
      "Epoch 56/100\n",
      "2522/2522 [==============================] - 623s 247ms/step - loss: 2.2000 - mae: 0.9201 - val_loss: 3.3061 - val_mae: 1.0481\n",
      "Epoch 57/100\n",
      "2522/2522 [==============================] - 621s 246ms/step - loss: 2.1542 - mae: 0.9115 - val_loss: 3.9992 - val_mae: 1.2616\n",
      "Epoch 58/100\n",
      "2522/2522 [==============================] - 623s 247ms/step - loss: 2.1384 - mae: 0.9092 - val_loss: 3.1372 - val_mae: 0.9749\n",
      "Epoch 59/100\n",
      "2522/2522 [==============================] - 536s 212ms/step - loss: 2.1185 - mae: 0.9044 - val_loss: 3.0468 - val_mae: 0.9609\n",
      "Epoch 60/100\n",
      "2522/2522 [==============================] - 514s 204ms/step - loss: 2.0555 - mae: 0.8906 - val_loss: 3.0693 - val_mae: 0.9452\n",
      "Epoch 61/100\n",
      "2522/2522 [==============================] - 520s 206ms/step - loss: 2.0644 - mae: 0.8932 - val_loss: 4.8450 - val_mae: 1.4893\n",
      "Epoch 62/100\n",
      "2522/2522 [==============================] - 543s 215ms/step - loss: 2.0100 - mae: 0.8794 - val_loss: 2.8338 - val_mae: 0.8656\n",
      "Epoch 63/100\n",
      "2522/2522 [==============================] - 513s 203ms/step - loss: 1.9799 - mae: 0.8728 - val_loss: 2.9525 - val_mae: 0.9504\n",
      "Epoch 64/100\n",
      "2522/2522 [==============================] - 514s 204ms/step - loss: 1.9507 - mae: 0.8674 - val_loss: 4.2202 - val_mae: 1.3716\n",
      "Epoch 65/100\n",
      "2522/2522 [==============================] - 525s 208ms/step - loss: 1.9353 - mae: 0.8625 - val_loss: 2.6150 - val_mae: 0.8107\n",
      "Epoch 66/100\n",
      "2522/2522 [==============================] - 605s 240ms/step - loss: 1.9016 - mae: 0.8553 - val_loss: 2.9180 - val_mae: 0.9234\n",
      "Epoch 67/100\n",
      "2522/2522 [==============================] - 561s 222ms/step - loss: 1.8812 - mae: 0.8522 - val_loss: 2.7848 - val_mae: 0.8679\n",
      "Epoch 68/100\n",
      "2522/2522 [==============================] - 510s 202ms/step - loss: 1.8646 - mae: 0.8460 - val_loss: 2.5237 - val_mae: 0.7958\n",
      "Epoch 69/100\n",
      "2522/2522 [==============================] - 507s 201ms/step - loss: 1.8321 - mae: 0.8400 - val_loss: 3.3037 - val_mae: 1.1267\n",
      "Epoch 70/100\n",
      "2522/2522 [==============================] - 506s 201ms/step - loss: 1.8156 - mae: 0.8371 - val_loss: 2.7810 - val_mae: 0.8907\n",
      "Epoch 71/100\n",
      "2522/2522 [==============================] - 503s 199ms/step - loss: 1.7794 - mae: 0.8266 - val_loss: 2.5347 - val_mae: 0.7836\n",
      "Epoch 72/100\n",
      "2522/2522 [==============================] - 505s 200ms/step - loss: 1.7593 - mae: 0.8249 - val_loss: 2.5482 - val_mae: 0.7827\n",
      "Epoch 73/100\n",
      "2522/2522 [==============================] - 504s 200ms/step - loss: 1.7632 - mae: 0.8276 - val_loss: 2.7079 - val_mae: 0.8913\n",
      "Epoch 74/100\n",
      "2522/2522 [==============================] - 506s 200ms/step - loss: 1.7035 - mae: 0.8057 - val_loss: 2.6555 - val_mae: 0.8706\n",
      "Epoch 75/100\n",
      "2522/2522 [==============================] - 504s 200ms/step - loss: 1.7117 - mae: 0.8097 - val_loss: 2.4485 - val_mae: 0.7687\n",
      "Epoch 76/100\n",
      "2522/2522 [==============================] - 502s 199ms/step - loss: 1.6914 - mae: 0.8096 - val_loss: 2.3281 - val_mae: 0.7515\n",
      "Epoch 77/100\n",
      "2522/2522 [==============================] - 508s 201ms/step - loss: 1.6576 - mae: 0.7988 - val_loss: 2.6213 - val_mae: 0.7952\n",
      "Epoch 78/100\n",
      "2522/2522 [==============================] - 508s 201ms/step - loss: 1.6355 - mae: 0.7943 - val_loss: 2.4544 - val_mae: 0.7991\n",
      "Epoch 79/100\n",
      "2522/2522 [==============================] - 501s 199ms/step - loss: 1.6265 - mae: 0.7955 - val_loss: 2.5805 - val_mae: 0.8495\n",
      "Epoch 80/100\n",
      "2522/2522 [==============================] - 507s 201ms/step - loss: 1.5927 - mae: 0.7854 - val_loss: 2.3618 - val_mae: 0.7629\n",
      "Epoch 81/100\n",
      "2522/2522 [==============================] - 528s 209ms/step - loss: 1.5907 - mae: 0.7865 - val_loss: 2.6738 - val_mae: 0.9002\n",
      "Epoch 82/100\n",
      "2522/2522 [==============================] - 516s 205ms/step - loss: 1.5651 - mae: 0.7790 - val_loss: 2.2956 - val_mae: 0.7286\n",
      "Epoch 83/100\n",
      "2522/2522 [==============================] - 491s 195ms/step - loss: 1.5346 - mae: 0.7678 - val_loss: 2.5038 - val_mae: 0.8308\n",
      "Epoch 84/100\n",
      "2522/2522 [==============================] - 522s 207ms/step - loss: 1.5283 - mae: 0.7709 - val_loss: 2.3085 - val_mae: 0.7467\n",
      "Epoch 85/100\n",
      "  73/2522 [..............................] - ETA: 8:30 - loss: 1.3645 - mae: 0.7115"
     ]
    },
    {
     "ename": "KeyboardInterrupt",
     "evalue": "",
     "output_type": "error",
     "traceback": [
      "\u001b[1;31m---------------------------------------------------------------------------\u001b[0m",
      "\u001b[1;31mKeyboardInterrupt\u001b[0m                         Traceback (most recent call last)",
      "Cell \u001b[1;32mIn[13], line 1\u001b[0m\n\u001b[1;32m----> 1\u001b[0m history \u001b[38;5;241m=\u001b[39m \u001b[43mmodel\u001b[49m\u001b[38;5;241;43m.\u001b[39;49m\u001b[43mfit\u001b[49m\u001b[43m(\u001b[49m\u001b[43mX_train\u001b[49m\u001b[43m,\u001b[49m\u001b[43m \u001b[49m\n\u001b[0;32m      2\u001b[0m \u001b[43m                    \u001b[49m\u001b[43mY_train\u001b[49m\u001b[43m,\u001b[49m\u001b[43m \u001b[49m\n\u001b[0;32m      3\u001b[0m \u001b[43m                    \u001b[49m\u001b[43mvalidation_data\u001b[49m\u001b[38;5;241;43m=\u001b[39;49m\u001b[43m(\u001b[49m\u001b[43mX_val\u001b[49m\u001b[43m,\u001b[49m\u001b[43m \u001b[49m\u001b[43mY_val\u001b[49m\u001b[43m)\u001b[49m\u001b[43m,\u001b[49m\u001b[43m \u001b[49m\n\u001b[0;32m      4\u001b[0m \u001b[43m                    \u001b[49m\u001b[43mepochs\u001b[49m\u001b[38;5;241;43m=\u001b[39;49m\u001b[38;5;241;43m100\u001b[39;49m\u001b[43m,\u001b[49m\u001b[43m \u001b[49m\n\u001b[0;32m      5\u001b[0m \u001b[43m                    \u001b[49m\u001b[43mbatch_size\u001b[49m\u001b[38;5;241;43m=\u001b[39;49m\u001b[38;5;241;43m32\u001b[39;49m\u001b[43m,\u001b[49m\n\u001b[0;32m      6\u001b[0m \u001b[43m                    \u001b[49m\u001b[43mcallbacks\u001b[49m\u001b[38;5;241;43m=\u001b[39;49m\u001b[43m[\u001b[49m\u001b[43mkeras\u001b[49m\u001b[38;5;241;43m.\u001b[39;49m\u001b[43mcallbacks\u001b[49m\u001b[38;5;241;43m.\u001b[39;49m\u001b[43mModelCheckpoint\u001b[49m\u001b[43m(\u001b[49m\u001b[38;5;124;43m'\u001b[39;49m\u001b[38;5;124;43mmodel_cnn.h5\u001b[39;49m\u001b[38;5;124;43m'\u001b[39;49m\u001b[43m,\u001b[49m\u001b[43m \u001b[49m\u001b[43msave_best_only\u001b[49m\u001b[38;5;241;43m=\u001b[39;49m\u001b[38;5;28;43;01mTrue\u001b[39;49;00m\u001b[43m)\u001b[49m\u001b[43m]\u001b[49m\u001b[43m)\u001b[49m\n",
      "File \u001b[1;32me:\\envs\\miniconda\\envs\\ai\\lib\\site-packages\\keras\\utils\\traceback_utils.py:65\u001b[0m, in \u001b[0;36mfilter_traceback.<locals>.error_handler\u001b[1;34m(*args, **kwargs)\u001b[0m\n\u001b[0;32m     63\u001b[0m filtered_tb \u001b[38;5;241m=\u001b[39m \u001b[38;5;28;01mNone\u001b[39;00m\n\u001b[0;32m     64\u001b[0m \u001b[38;5;28;01mtry\u001b[39;00m:\n\u001b[1;32m---> 65\u001b[0m     \u001b[38;5;28;01mreturn\u001b[39;00m fn(\u001b[38;5;241m*\u001b[39margs, \u001b[38;5;241m*\u001b[39m\u001b[38;5;241m*\u001b[39mkwargs)\n\u001b[0;32m     66\u001b[0m \u001b[38;5;28;01mexcept\u001b[39;00m \u001b[38;5;167;01mException\u001b[39;00m \u001b[38;5;28;01mas\u001b[39;00m e:\n\u001b[0;32m     67\u001b[0m     filtered_tb \u001b[38;5;241m=\u001b[39m _process_traceback_frames(e\u001b[38;5;241m.\u001b[39m__traceback__)\n",
      "File \u001b[1;32me:\\envs\\miniconda\\envs\\ai\\lib\\site-packages\\keras\\engine\\training.py:1564\u001b[0m, in \u001b[0;36mModel.fit\u001b[1;34m(self, x, y, batch_size, epochs, verbose, callbacks, validation_split, validation_data, shuffle, class_weight, sample_weight, initial_epoch, steps_per_epoch, validation_steps, validation_batch_size, validation_freq, max_queue_size, workers, use_multiprocessing)\u001b[0m\n\u001b[0;32m   1556\u001b[0m \u001b[38;5;28;01mwith\u001b[39;00m tf\u001b[38;5;241m.\u001b[39mprofiler\u001b[38;5;241m.\u001b[39mexperimental\u001b[38;5;241m.\u001b[39mTrace(\n\u001b[0;32m   1557\u001b[0m     \u001b[38;5;124m\"\u001b[39m\u001b[38;5;124mtrain\u001b[39m\u001b[38;5;124m\"\u001b[39m,\n\u001b[0;32m   1558\u001b[0m     epoch_num\u001b[38;5;241m=\u001b[39mepoch,\n\u001b[1;32m   (...)\u001b[0m\n\u001b[0;32m   1561\u001b[0m     _r\u001b[38;5;241m=\u001b[39m\u001b[38;5;241m1\u001b[39m,\n\u001b[0;32m   1562\u001b[0m ):\n\u001b[0;32m   1563\u001b[0m     callbacks\u001b[38;5;241m.\u001b[39mon_train_batch_begin(step)\n\u001b[1;32m-> 1564\u001b[0m     tmp_logs \u001b[38;5;241m=\u001b[39m \u001b[38;5;28;43mself\u001b[39;49m\u001b[38;5;241;43m.\u001b[39;49m\u001b[43mtrain_function\u001b[49m\u001b[43m(\u001b[49m\u001b[43miterator\u001b[49m\u001b[43m)\u001b[49m\n\u001b[0;32m   1565\u001b[0m     \u001b[38;5;28;01mif\u001b[39;00m data_handler\u001b[38;5;241m.\u001b[39mshould_sync:\n\u001b[0;32m   1566\u001b[0m         context\u001b[38;5;241m.\u001b[39masync_wait()\n",
      "File \u001b[1;32me:\\envs\\miniconda\\envs\\ai\\lib\\site-packages\\tensorflow\\python\\util\\traceback_utils.py:150\u001b[0m, in \u001b[0;36mfilter_traceback.<locals>.error_handler\u001b[1;34m(*args, **kwargs)\u001b[0m\n\u001b[0;32m    148\u001b[0m filtered_tb \u001b[38;5;241m=\u001b[39m \u001b[38;5;28;01mNone\u001b[39;00m\n\u001b[0;32m    149\u001b[0m \u001b[38;5;28;01mtry\u001b[39;00m:\n\u001b[1;32m--> 150\u001b[0m   \u001b[38;5;28;01mreturn\u001b[39;00m fn(\u001b[38;5;241m*\u001b[39margs, \u001b[38;5;241m*\u001b[39m\u001b[38;5;241m*\u001b[39mkwargs)\n\u001b[0;32m    151\u001b[0m \u001b[38;5;28;01mexcept\u001b[39;00m \u001b[38;5;167;01mException\u001b[39;00m \u001b[38;5;28;01mas\u001b[39;00m e:\n\u001b[0;32m    152\u001b[0m   filtered_tb \u001b[38;5;241m=\u001b[39m _process_traceback_frames(e\u001b[38;5;241m.\u001b[39m__traceback__)\n",
      "File \u001b[1;32me:\\envs\\miniconda\\envs\\ai\\lib\\site-packages\\tensorflow\\python\\eager\\def_function.py:915\u001b[0m, in \u001b[0;36mFunction.__call__\u001b[1;34m(self, *args, **kwds)\u001b[0m\n\u001b[0;32m    912\u001b[0m compiler \u001b[38;5;241m=\u001b[39m \u001b[38;5;124m\"\u001b[39m\u001b[38;5;124mxla\u001b[39m\u001b[38;5;124m\"\u001b[39m \u001b[38;5;28;01mif\u001b[39;00m \u001b[38;5;28mself\u001b[39m\u001b[38;5;241m.\u001b[39m_jit_compile \u001b[38;5;28;01melse\u001b[39;00m \u001b[38;5;124m\"\u001b[39m\u001b[38;5;124mnonXla\u001b[39m\u001b[38;5;124m\"\u001b[39m\n\u001b[0;32m    914\u001b[0m \u001b[38;5;28;01mwith\u001b[39;00m OptionalXlaContext(\u001b[38;5;28mself\u001b[39m\u001b[38;5;241m.\u001b[39m_jit_compile):\n\u001b[1;32m--> 915\u001b[0m   result \u001b[38;5;241m=\u001b[39m \u001b[38;5;28mself\u001b[39m\u001b[38;5;241m.\u001b[39m_call(\u001b[38;5;241m*\u001b[39margs, \u001b[38;5;241m*\u001b[39m\u001b[38;5;241m*\u001b[39mkwds)\n\u001b[0;32m    917\u001b[0m new_tracing_count \u001b[38;5;241m=\u001b[39m \u001b[38;5;28mself\u001b[39m\u001b[38;5;241m.\u001b[39mexperimental_get_tracing_count()\n\u001b[0;32m    918\u001b[0m without_tracing \u001b[38;5;241m=\u001b[39m (tracing_count \u001b[38;5;241m==\u001b[39m new_tracing_count)\n",
      "File \u001b[1;32me:\\envs\\miniconda\\envs\\ai\\lib\\site-packages\\tensorflow\\python\\eager\\def_function.py:947\u001b[0m, in \u001b[0;36mFunction._call\u001b[1;34m(self, *args, **kwds)\u001b[0m\n\u001b[0;32m    944\u001b[0m   \u001b[38;5;28mself\u001b[39m\u001b[38;5;241m.\u001b[39m_lock\u001b[38;5;241m.\u001b[39mrelease()\n\u001b[0;32m    945\u001b[0m   \u001b[38;5;66;03m# In this case we have created variables on the first call, so we run the\u001b[39;00m\n\u001b[0;32m    946\u001b[0m   \u001b[38;5;66;03m# defunned version which is guaranteed to never create variables.\u001b[39;00m\n\u001b[1;32m--> 947\u001b[0m   \u001b[38;5;28;01mreturn\u001b[39;00m \u001b[38;5;28mself\u001b[39m\u001b[38;5;241m.\u001b[39m_stateless_fn(\u001b[38;5;241m*\u001b[39margs, \u001b[38;5;241m*\u001b[39m\u001b[38;5;241m*\u001b[39mkwds)  \u001b[38;5;66;03m# pylint: disable=not-callable\u001b[39;00m\n\u001b[0;32m    948\u001b[0m \u001b[38;5;28;01melif\u001b[39;00m \u001b[38;5;28mself\u001b[39m\u001b[38;5;241m.\u001b[39m_stateful_fn \u001b[38;5;129;01mis\u001b[39;00m \u001b[38;5;129;01mnot\u001b[39;00m \u001b[38;5;28;01mNone\u001b[39;00m:\n\u001b[0;32m    949\u001b[0m   \u001b[38;5;66;03m# Release the lock early so that multiple threads can perform the call\u001b[39;00m\n\u001b[0;32m    950\u001b[0m   \u001b[38;5;66;03m# in parallel.\u001b[39;00m\n\u001b[0;32m    951\u001b[0m   \u001b[38;5;28mself\u001b[39m\u001b[38;5;241m.\u001b[39m_lock\u001b[38;5;241m.\u001b[39mrelease()\n",
      "File \u001b[1;32me:\\envs\\miniconda\\envs\\ai\\lib\\site-packages\\tensorflow\\python\\eager\\function.py:2496\u001b[0m, in \u001b[0;36mFunction.__call__\u001b[1;34m(self, *args, **kwargs)\u001b[0m\n\u001b[0;32m   2493\u001b[0m \u001b[38;5;28;01mwith\u001b[39;00m \u001b[38;5;28mself\u001b[39m\u001b[38;5;241m.\u001b[39m_lock:\n\u001b[0;32m   2494\u001b[0m   (graph_function,\n\u001b[0;32m   2495\u001b[0m    filtered_flat_args) \u001b[38;5;241m=\u001b[39m \u001b[38;5;28mself\u001b[39m\u001b[38;5;241m.\u001b[39m_maybe_define_function(args, kwargs)\n\u001b[1;32m-> 2496\u001b[0m \u001b[38;5;28;01mreturn\u001b[39;00m \u001b[43mgraph_function\u001b[49m\u001b[38;5;241;43m.\u001b[39;49m\u001b[43m_call_flat\u001b[49m\u001b[43m(\u001b[49m\n\u001b[0;32m   2497\u001b[0m \u001b[43m    \u001b[49m\u001b[43mfiltered_flat_args\u001b[49m\u001b[43m,\u001b[49m\u001b[43m \u001b[49m\u001b[43mcaptured_inputs\u001b[49m\u001b[38;5;241;43m=\u001b[39;49m\u001b[43mgraph_function\u001b[49m\u001b[38;5;241;43m.\u001b[39;49m\u001b[43mcaptured_inputs\u001b[49m\u001b[43m)\u001b[49m\n",
      "File \u001b[1;32me:\\envs\\miniconda\\envs\\ai\\lib\\site-packages\\tensorflow\\python\\eager\\function.py:1862\u001b[0m, in \u001b[0;36mConcreteFunction._call_flat\u001b[1;34m(self, args, captured_inputs, cancellation_manager)\u001b[0m\n\u001b[0;32m   1858\u001b[0m possible_gradient_type \u001b[38;5;241m=\u001b[39m gradients_util\u001b[38;5;241m.\u001b[39mPossibleTapeGradientTypes(args)\n\u001b[0;32m   1859\u001b[0m \u001b[38;5;28;01mif\u001b[39;00m (possible_gradient_type \u001b[38;5;241m==\u001b[39m gradients_util\u001b[38;5;241m.\u001b[39mPOSSIBLE_GRADIENT_TYPES_NONE\n\u001b[0;32m   1860\u001b[0m     \u001b[38;5;129;01mand\u001b[39;00m executing_eagerly):\n\u001b[0;32m   1861\u001b[0m   \u001b[38;5;66;03m# No tape is watching; skip to running the function.\u001b[39;00m\n\u001b[1;32m-> 1862\u001b[0m   \u001b[38;5;28;01mreturn\u001b[39;00m \u001b[38;5;28mself\u001b[39m\u001b[38;5;241m.\u001b[39m_build_call_outputs(\u001b[38;5;28;43mself\u001b[39;49m\u001b[38;5;241;43m.\u001b[39;49m\u001b[43m_inference_function\u001b[49m\u001b[38;5;241;43m.\u001b[39;49m\u001b[43mcall\u001b[49m\u001b[43m(\u001b[49m\n\u001b[0;32m   1863\u001b[0m \u001b[43m      \u001b[49m\u001b[43mctx\u001b[49m\u001b[43m,\u001b[49m\u001b[43m \u001b[49m\u001b[43margs\u001b[49m\u001b[43m,\u001b[49m\u001b[43m \u001b[49m\u001b[43mcancellation_manager\u001b[49m\u001b[38;5;241;43m=\u001b[39;49m\u001b[43mcancellation_manager\u001b[49m\u001b[43m)\u001b[49m)\n\u001b[0;32m   1864\u001b[0m forward_backward \u001b[38;5;241m=\u001b[39m \u001b[38;5;28mself\u001b[39m\u001b[38;5;241m.\u001b[39m_select_forward_and_backward_functions(\n\u001b[0;32m   1865\u001b[0m     args,\n\u001b[0;32m   1866\u001b[0m     possible_gradient_type,\n\u001b[0;32m   1867\u001b[0m     executing_eagerly)\n\u001b[0;32m   1868\u001b[0m forward_function, args_with_tangents \u001b[38;5;241m=\u001b[39m forward_backward\u001b[38;5;241m.\u001b[39mforward()\n",
      "File \u001b[1;32me:\\envs\\miniconda\\envs\\ai\\lib\\site-packages\\tensorflow\\python\\eager\\function.py:499\u001b[0m, in \u001b[0;36m_EagerDefinedFunction.call\u001b[1;34m(self, ctx, args, cancellation_manager)\u001b[0m\n\u001b[0;32m    497\u001b[0m \u001b[38;5;28;01mwith\u001b[39;00m _InterpolateFunctionError(\u001b[38;5;28mself\u001b[39m):\n\u001b[0;32m    498\u001b[0m   \u001b[38;5;28;01mif\u001b[39;00m cancellation_manager \u001b[38;5;129;01mis\u001b[39;00m \u001b[38;5;28;01mNone\u001b[39;00m:\n\u001b[1;32m--> 499\u001b[0m     outputs \u001b[38;5;241m=\u001b[39m \u001b[43mexecute\u001b[49m\u001b[38;5;241;43m.\u001b[39;49m\u001b[43mexecute\u001b[49m\u001b[43m(\u001b[49m\n\u001b[0;32m    500\u001b[0m \u001b[43m        \u001b[49m\u001b[38;5;28;43mstr\u001b[39;49m\u001b[43m(\u001b[49m\u001b[38;5;28;43mself\u001b[39;49m\u001b[38;5;241;43m.\u001b[39;49m\u001b[43msignature\u001b[49m\u001b[38;5;241;43m.\u001b[39;49m\u001b[43mname\u001b[49m\u001b[43m)\u001b[49m\u001b[43m,\u001b[49m\n\u001b[0;32m    501\u001b[0m \u001b[43m        \u001b[49m\u001b[43mnum_outputs\u001b[49m\u001b[38;5;241;43m=\u001b[39;49m\u001b[38;5;28;43mself\u001b[39;49m\u001b[38;5;241;43m.\u001b[39;49m\u001b[43m_num_outputs\u001b[49m\u001b[43m,\u001b[49m\n\u001b[0;32m    502\u001b[0m \u001b[43m        \u001b[49m\u001b[43minputs\u001b[49m\u001b[38;5;241;43m=\u001b[39;49m\u001b[43margs\u001b[49m\u001b[43m,\u001b[49m\n\u001b[0;32m    503\u001b[0m \u001b[43m        \u001b[49m\u001b[43mattrs\u001b[49m\u001b[38;5;241;43m=\u001b[39;49m\u001b[43mattrs\u001b[49m\u001b[43m,\u001b[49m\n\u001b[0;32m    504\u001b[0m \u001b[43m        \u001b[49m\u001b[43mctx\u001b[49m\u001b[38;5;241;43m=\u001b[39;49m\u001b[43mctx\u001b[49m\u001b[43m)\u001b[49m\n\u001b[0;32m    505\u001b[0m   \u001b[38;5;28;01melse\u001b[39;00m:\n\u001b[0;32m    506\u001b[0m     outputs \u001b[38;5;241m=\u001b[39m execute\u001b[38;5;241m.\u001b[39mexecute_with_cancellation(\n\u001b[0;32m    507\u001b[0m         \u001b[38;5;28mstr\u001b[39m(\u001b[38;5;28mself\u001b[39m\u001b[38;5;241m.\u001b[39msignature\u001b[38;5;241m.\u001b[39mname),\n\u001b[0;32m    508\u001b[0m         num_outputs\u001b[38;5;241m=\u001b[39m\u001b[38;5;28mself\u001b[39m\u001b[38;5;241m.\u001b[39m_num_outputs,\n\u001b[1;32m   (...)\u001b[0m\n\u001b[0;32m    511\u001b[0m         ctx\u001b[38;5;241m=\u001b[39mctx,\n\u001b[0;32m    512\u001b[0m         cancellation_manager\u001b[38;5;241m=\u001b[39mcancellation_manager)\n",
      "File \u001b[1;32me:\\envs\\miniconda\\envs\\ai\\lib\\site-packages\\tensorflow\\python\\eager\\execute.py:54\u001b[0m, in \u001b[0;36mquick_execute\u001b[1;34m(op_name, num_outputs, inputs, attrs, ctx, name)\u001b[0m\n\u001b[0;32m     52\u001b[0m \u001b[38;5;28;01mtry\u001b[39;00m:\n\u001b[0;32m     53\u001b[0m   ctx\u001b[38;5;241m.\u001b[39mensure_initialized()\n\u001b[1;32m---> 54\u001b[0m   tensors \u001b[38;5;241m=\u001b[39m \u001b[43mpywrap_tfe\u001b[49m\u001b[38;5;241;43m.\u001b[39;49m\u001b[43mTFE_Py_Execute\u001b[49m\u001b[43m(\u001b[49m\u001b[43mctx\u001b[49m\u001b[38;5;241;43m.\u001b[39;49m\u001b[43m_handle\u001b[49m\u001b[43m,\u001b[49m\u001b[43m \u001b[49m\u001b[43mdevice_name\u001b[49m\u001b[43m,\u001b[49m\u001b[43m \u001b[49m\u001b[43mop_name\u001b[49m\u001b[43m,\u001b[49m\n\u001b[0;32m     55\u001b[0m \u001b[43m                                      \u001b[49m\u001b[43minputs\u001b[49m\u001b[43m,\u001b[49m\u001b[43m \u001b[49m\u001b[43mattrs\u001b[49m\u001b[43m,\u001b[49m\u001b[43m \u001b[49m\u001b[43mnum_outputs\u001b[49m\u001b[43m)\u001b[49m\n\u001b[0;32m     56\u001b[0m \u001b[38;5;28;01mexcept\u001b[39;00m core\u001b[38;5;241m.\u001b[39m_NotOkStatusException \u001b[38;5;28;01mas\u001b[39;00m e:\n\u001b[0;32m     57\u001b[0m   \u001b[38;5;28;01mif\u001b[39;00m name \u001b[38;5;129;01mis\u001b[39;00m \u001b[38;5;129;01mnot\u001b[39;00m \u001b[38;5;28;01mNone\u001b[39;00m:\n",
      "\u001b[1;31mKeyboardInterrupt\u001b[0m: "
     ]
    }
   ],
   "source": [
    "history = model.fit(X_train, \n",
    "                    Y_train, \n",
    "                    validation_data=(X_val, Y_val), \n",
    "                    epochs=100, \n",
    "                    batch_size=32,\n",
    "                    callbacks=[keras.callbacks.ModelCheckpoint('model_cnn.h5', save_best_only=True)])"
   ]
  },
  {
   "cell_type": "code",
   "execution_count": 14,
   "metadata": {},
   "outputs": [
    {
     "ename": "NameError",
     "evalue": "name 'history' is not defined",
     "output_type": "error",
     "traceback": [
      "\u001b[1;31m---------------------------------------------------------------------------\u001b[0m",
      "\u001b[1;31mNameError\u001b[0m                                 Traceback (most recent call last)",
      "Cell \u001b[1;32mIn[14], line 1\u001b[0m\n\u001b[1;32m----> 1\u001b[0m loss \u001b[38;5;241m=\u001b[39m \u001b[43mhistory\u001b[49m\u001b[38;5;241m.\u001b[39mhistory[\u001b[38;5;124m'\u001b[39m\u001b[38;5;124mloss\u001b[39m\u001b[38;5;124m'\u001b[39m]\n\u001b[0;32m      2\u001b[0m val_loss \u001b[38;5;241m=\u001b[39m history\u001b[38;5;241m.\u001b[39mhistory[\u001b[38;5;124m'\u001b[39m\u001b[38;5;124mval_loss\u001b[39m\u001b[38;5;124m'\u001b[39m]  \n\u001b[0;32m      3\u001b[0m plt\u001b[38;5;241m.\u001b[39mplot(loss)\n",
      "\u001b[1;31mNameError\u001b[0m: name 'history' is not defined"
     ]
    }
   ],
   "source": [
    "loss = history.history['loss']\n",
    "val_loss = history.history['val_loss']  \n",
    "plt.plot(loss)\n",
    "plt.plot(val_loss)\n",
    "plt.show()"
   ]
  },
  {
   "cell_type": "code",
   "execution_count": 15,
   "metadata": {},
   "outputs": [
    {
     "name": "stdout",
     "output_type": "stream",
     "text": [
      "1/1 [==============================] - 0s 264ms/step\n"
     ]
    },
    {
     "data": {
      "text/plain": [
       "<matplotlib.legend.Legend at 0x188d5780a60>"
      ]
     },
     "execution_count": 15,
     "metadata": {},
     "output_type": "execute_result"
    },
    {
     "data": {
      "image/png": "[encoded data removed]",
      "text/plain": [
       "<Figure size 640x480 with 1 Axes>"
      ]
     },
     "metadata": {},
     "output_type": "display_data"
    }
   ],
   "source": [
    "index = np.random.randint(0, X_test.shape[0])\n",
    "keypoint_index = np.random.randint(0, 5)\n",
    "y = model.predict(X_test[index:index+1])\n",
    "# plt.plot(X_test[0, 1, :30], 'ro', markersize=1)\n",
    "# plt.plot(y[0, 1], 'ro', markersize=1)\n",
    "# plt.plot(Y_test[index, 1], 'bo', markersize=1)\n",
    "plt.plot(X_test[index, keypoint_index, :30, 0], 'o', markersize=1)\n",
    "plt.plot(y[0, keypoint_index, :, 0], 'o', markersize=1)\n",
    "plt.plot(Y_test[index, keypoint_index, :, 0], 'o', markersize=1)\n",
    "plt.legend(['input', 'output', 'target'])"
   ]
  },
  {
   "cell_type": "code",
   "execution_count": 16,
   "metadata": {},
   "outputs": [
    {
     "data": {
      "text/plain": [
       "<matplotlib.legend.Legend at 0x188a9b3c2b0>"
      ]
     },
     "execution_count": 16,
     "metadata": {},
     "output_type": "execute_result"
    },
    {
     "data": {
      "image/png": "[encoded data removed]",
      "text/plain": [
       "<Figure size 640x480 with 1 Axes>"
      ]
     },
     "metadata": {},
     "output_type": "display_data"
    }
   ],
   "source": [
    "plt.plot(X_test[index, keypoint_index, :30, 1], 'o', markersize=1)\n",
    "plt.plot(y[0, keypoint_index, :, 1], 'o', markersize=1)\n",
    "plt.legend(['input', 'output'])"
   ]
  },
  {
   "cell_type": "code",
   "execution_count": null,
   "metadata": {},
   "outputs": [
    {
     "data": {
      "text/plain": [
       "3"
      ]
     },
     "execution_count": 68,
     "metadata": {},
     "output_type": "execute_result"
    }
   ],
   "source": [
    "keypoint_index"
   ]
  },
  {
   "cell_type": "code",
   "execution_count": 20,
   "metadata": {},
   "outputs": [
    {
     "name": "stdout",
     "output_type": "stream",
     "text": [
      "541/541 [==============================] - 31s 57ms/step\n"
     ]
    }
   ],
   "source": [
    "y_test_out = model.predict(X_test)"
   ]
  },
  {
   "cell_type": "code",
   "execution_count": 23,
   "metadata": {},
   "outputs": [
    {
     "name": "stdout",
     "output_type": "stream",
     "text": [
      "MSE Loss on Test Data :  2.1495893483940822\n",
      "MAPE Score on Test Data :  0.010603377356949143\n"
     ]
    }
   ],
   "source": [
    "# mse loss on test data\n",
    "mse_loss = np.mean((Y_test - y_test_out)**2)\n",
    "\n",
    "# mape loss on test data\n",
    "mape_score = np.mean(np.abs(Y_test - y_test_out) / (np.abs(Y_test + 0.1)))\n",
    "\n",
    "print(\"MSE Loss on Test Data : \", mse_loss)\n",
    "print(\"MAPE Score on Test Data : \", mape_score)"
   ]
  },
  {
   "cell_type": "code",
   "execution_count": null,
   "metadata": {},
   "outputs": [],
   "source": []
  }
 ],
 "metadata": {
  "kernelspec": {
   "display_name": "ai",
   "language": "python",
   "name": "python3"
  },
  "language_info": {
   "codemirror_mode": {
    "name": "ipython",
    "version": 3
   },
   "file_extension": ".py",
   "mimetype": "text/x-python",
   "name": "python",
   "nbconvert_exporter": "python",
   "pygments_lexer": "ipython3",
   "version": "3.9.19"
  }
 },
 "nbformat": 4,
 "nbformat_minor": 2
}
